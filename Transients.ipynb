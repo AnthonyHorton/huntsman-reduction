{
 "cells": [
  {
   "cell_type": "code",
   "execution_count": 1,
   "metadata": {
    "collapsed": true
   },
   "outputs": [],
   "source": [
    "# Having to use Python 2 for astrometry.net compatibility so...\n",
    "from __future__ import division, print_function, unicode_literals"
   ]
  },
  {
   "cell_type": "code",
   "execution_count": 2,
   "metadata": {
    "collapsed": false
   },
   "outputs": [],
   "source": [
    "# Importing all other required libraries.\n",
    "import os\n",
    "import ccdproc\n",
    "import glob\n",
    "import subprocess\n",
    "import itertools\n",
    "import numpy as np\n",
    "from astropy import units as u\n",
    "from astropy.io import fits\n",
    "from astropy.coordinates import SkyCoord\n",
    "from astropy.wcs import utils as wcsutils\n",
    "from astropy.table import Table\n",
    "from astropy.stats import sigma_clip\n",
    "from astroquery.simbad import Simbad\n",
    "from matplotlib import pyplot as plt\n",
    "from matplotlib.colors import LogNorm\n",
    "from matplotlib import rc, rcParams"
   ]
  },
  {
   "cell_type": "code",
   "execution_count": 3,
   "metadata": {
    "collapsed": true
   },
   "outputs": [],
   "source": [
    "%matplotlib inline"
   ]
  },
  {
   "cell_type": "code",
   "execution_count": 4,
   "metadata": {
    "collapsed": true
   },
   "outputs": [],
   "source": [
    "rc('text', usetex=True)\n",
    "rcParams.update({'font.size': 14})"
   ]
  },
  {
   "cell_type": "markdown",
   "metadata": {},
   "source": [
    "### Set up paths"
   ]
  },
  {
   "cell_type": "code",
   "execution_count": 5,
   "metadata": {
    "collapsed": true
   },
   "outputs": [],
   "source": [
    "# Absolute path of the top level directory containing raw data\n",
    "raw_root = \"/Volumes/LaCie/Huntsman/HuntsmanEye/raw\"\n",
    "\n",
    "# Creating a dictionary of data paths.\n",
    "# Only including r' band data from Rainbow Observatory for now (2014-09-20 and on)\n",
    "paths = {'calib':\"/Volumes/LaCie/Huntsman/HuntsmanEye/calib\", \\\n",
    "         'config':os.path.abspath('./configs'), \\\n",
    "         'temp':os.path.abspath('./temp'), \\\n",
    "         'raw':[os.path.join(raw_root, \"2014-09-20\"), \\\n",
    "                os.path.join(raw_root, \"2014-09-21\"), \\\n",
    "                os.path.join(raw_root, \"2014-09-22\"), \\\n",
    "                os.path.join(raw_root, \"2014-09-23\"), \\\n",
    "                os.path.join(raw_root, \"2014-09-24\"), \\\n",
    "                os.path.join(raw_root, \"2014-09-25\"), \\\n",
    "                os.path.join(raw_root, \"2014-09-26\")],\\\n",
    "         'red':os.path.abspath('./reduced')}\n",
    "\n",
    "bias_file = 'master_bias.fits'\n",
    "dark_file = 'master_dark.fits'\n",
    "unbiased_dark_file = 'master_unbiased_dark.fits'\n",
    "flat_file = 'master_flat.fits'"
   ]
  },
  {
   "cell_type": "code",
   "execution_count": 6,
   "metadata": {
    "collapsed": true
   },
   "outputs": [],
   "source": [
    "# Create temp and reduced directories if they don't exist\n",
    "for path in (paths['red'], paths['red']):\n",
    "    try:\n",
    "        # Try to create directory, will raise an exception if it already exists\n",
    "        os.makedirs(path)\n",
    "    except OSError:\n",
    "        # Directory already exists, nothing to do\n",
    "        pass"
   ]
  },
  {
   "cell_type": "markdown",
   "metadata": {
    "collapsed": true
   },
   "source": [
    "## Basic reduction\n",
    "\n",
    "### Assemble calibration files"
   ]
  },
  {
   "cell_type": "code",
   "execution_count": 7,
   "metadata": {
    "collapsed": false
   },
   "outputs": [],
   "source": [
    "master_bias = ccdproc.CCDData.read(os.path.join(paths['calib'], bias_file))\n",
    "master_dark = ccdproc.CCDData.read(os.path.join(paths['calib'], dark_file))\n",
    "if unbiased_dark_file:\n",
    "    master_unbiased_dark = ccdproc.CCDData.read(os.path.join(paths['calib'], unbiased_dark_file))\n",
    "else:\n",
    "    master_unbiased_dark = ccdproc.subtract_bias(master_dark, master_bias)\n",
    "master_flat = ccdproc.CCDData.read(os.path.join(paths['calib'], flat_file))"
   ]
  },
  {
   "cell_type": "markdown",
   "metadata": {},
   "source": [
    "### Get filenames of all the good data"
   ]
  },
  {
   "cell_type": "code",
   "execution_count": 8,
   "metadata": {
    "collapsed": true
   },
   "outputs": [],
   "source": [
    "# List of sequence numbers of exposures with bad data due to bad tracking, severe cloud, etc.\n",
    "# This is just for 'light' exposures, if we want to re-reduce the flats we'll need the bad\n",
    "# flat list too.\n",
    "bad_seq_nums = [[66,70,75,77,78,79,89], \\\n",
    "                [9,10,11,12,13,14,15,16,17,18,19,20,21,22], \\\n",
    "                [50,51,52], \\\n",
    "                [80,81,85,90], \\\n",
    "                [], \\\n",
    "                [80,81,82,87,88,96,98,99], \\\n",
    "                [115,128,130,131,153]]"
   ]
  },
  {
   "cell_type": "code",
   "execution_count": 9,
   "metadata": {
    "collapsed": false
   },
   "outputs": [],
   "source": [
    "# Just NGC300 data for now, most of the 300s exposures were on this target.\n",
    "ngc300_r_names = []\n",
    "for i, raw_path in enumerate(paths['raw']):\n",
    "    lights = glob.glob(os.path.join(raw_path, \"*_light.fits\"))\n",
    "    for light in lights:\n",
    "        light_header = fits.getheader(light)\n",
    "        # Only want exposures targeting NGC 300 (duh), and with 300 seconds exposure time.\n",
    "        if (light_header['TARGET'] == 'ngc_300' or light_header['TARGET'] == 'ngc300' \\\n",
    "            and light_header['EXPTIME'] == 300 and abs(light_header['TEMPERAT'] + 20) < 0.5):\n",
    "            # Also want to exclude known bad exposures (serious cloud, bad tracking, etc.)\n",
    "            seq_num = int((os.path.basename(light)).split('_')[1])\n",
    "            if not seq_num in bad_seq_nums[i]:\n",
    "                ngc300_r_names.append(light)"
   ]
  },
  {
   "cell_type": "code",
   "execution_count": 10,
   "metadata": {
    "collapsed": false
   },
   "outputs": [
    {
     "data": {
      "text/plain": [
       "222"
      ]
     },
     "execution_count": 10,
     "metadata": {},
     "output_type": "execute_result"
    }
   ],
   "source": [
    "len(ngc300_r_names)"
   ]
  },
  {
   "cell_type": "markdown",
   "metadata": {},
   "source": [
    "### Trim overscan region"
   ]
  },
  {
   "cell_type": "code",
   "execution_count": 11,
   "metadata": {
    "collapsed": false,
    "scrolled": true
   },
   "outputs": [
    {
     "name": "stderr",
     "output_type": "stream",
     "text": [
      "WARNING: FITSFixedWarning: EPOCH = 'JNOW ' / epoch of coordinates \n",
      "A floating-point value was expected. [astropy.wcs.wcs]\n",
      "WARNING:astropy:FITSFixedWarning: EPOCH = 'JNOW ' / epoch of coordinates \n",
      "A floating-point value was expected.\n",
      "WARNING: VerifyWarning: Keyword name 'trim_image' is greater than 8 characters or contains characters not allowed by the FITS standard; a HIERARCH card will be created. [astropy.io.fits.card]\n",
      "WARNING:astropy:VerifyWarning: Keyword name 'trim_image' is greater than 8 characters or contains characters not allowed by the FITS standard; a HIERARCH card will be created.\n"
     ]
    },
    {
     "name": "stdout",
     "output_type": "stream",
     "text": [
      "2014-09-20_83F011167_100_light.fits\n",
      "2014-09-20_83F011167_101_light.fits\n",
      "2014-09-20_83F011167_102_light.fits\n",
      "2014-09-20_83F011167_44_light.fits\n",
      "2014-09-20_83F011167_45_light.fits\n",
      "2014-09-20_83F011167_46_light.fits\n",
      "2014-09-20_83F011167_47_light.fits\n",
      "2014-09-20_83F011167_48_light.fits\n",
      "2014-09-20_83F011167_49_light.fits\n",
      "2014-09-20_83F011167_50_light.fits\n",
      "2014-09-20_83F011167_51_light.fits\n",
      "2014-09-20_83F011167_52_light.fits\n",
      "2014-09-20_83F011167_53_light.fits\n",
      "2014-09-20_83F011167_54_light.fits\n",
      "2014-09-20_83F011167_55_light.fits\n",
      "2014-09-20_83F011167_56_light.fits\n",
      "2014-09-20_83F011167_57_light.fits\n",
      "2014-09-20_83F011167_58_light.fits\n",
      "2014-09-20_83F011167_59_light.fits\n",
      "2014-09-20_83F011167_60_light.fits\n",
      "2014-09-20_83F011167_61_light.fits\n",
      "2014-09-20_83F011167_62_light.fits\n",
      "2014-09-20_83F011167_63_light.fits\n",
      "2014-09-20_83F011167_64_light.fits\n",
      "2014-09-20_83F011167_65_light.fits\n",
      "2014-09-20_83F011167_67_light.fits\n",
      "2014-09-20_83F011167_68_light.fits\n",
      "2014-09-20_83F011167_69_light.fits\n",
      "2014-09-20_83F011167_71_light.fits\n",
      "2014-09-20_83F011167_72_light.fits\n",
      "2014-09-20_83F011167_73_light.fits\n",
      "2014-09-20_83F011167_74_light.fits\n",
      "2014-09-20_83F011167_76_light.fits\n",
      "2014-09-20_83F011167_80_light.fits\n",
      "2014-09-20_83F011167_81_light.fits\n",
      "2014-09-20_83F011167_82_light.fits\n",
      "2014-09-20_83F011167_83_light.fits\n",
      "2014-09-20_83F011167_84_light.fits\n",
      "2014-09-20_83F011167_85_light.fits\n",
      "2014-09-20_83F011167_86_light.fits\n",
      "2014-09-20_83F011167_87_light.fits\n",
      "2014-09-20_83F011167_88_light.fits\n",
      "2014-09-20_83F011167_90_light.fits\n",
      "2014-09-20_83F011167_91_light.fits\n",
      "2014-09-20_83F011167_92_light.fits\n",
      "2014-09-20_83F011167_93_light.fits\n",
      "2014-09-20_83F011167_94_light.fits\n",
      "2014-09-20_83F011167_95_light.fits\n",
      "2014-09-20_83F011167_96_light.fits\n",
      "2014-09-20_83F011167_97_light.fits\n",
      "2014-09-20_83F011167_98_light.fits\n",
      "2014-09-20_83F011167_99_light.fits\n",
      "2014-09-22_83F011167_53_light.fits\n",
      "2014-09-22_83F011167_54_light.fits\n",
      "2014-09-22_83F011167_55_light.fits\n",
      "2014-09-22_83F011167_56_light.fits\n",
      "2014-09-22_83F011167_57_light.fits\n",
      "2014-09-22_83F011167_58_light.fits\n",
      "2014-09-22_83F011167_59_light.fits\n",
      "2014-09-22_83F011167_60_light.fits\n",
      "2014-09-22_83F011167_61_light.fits\n",
      "2014-09-22_83F011167_62_light.fits\n",
      "2014-09-22_83F011167_63_light.fits\n",
      "2014-09-22_83F011167_64_light.fits\n",
      "2014-09-22_83F011167_65_light.fits\n",
      "2014-09-22_83F011167_66_light.fits\n",
      "2014-09-23_83F011167_100_light.fits\n",
      "2014-09-23_83F011167_101_light.fits\n",
      "2014-09-23_83F011167_102_light.fits\n",
      "2014-09-23_83F011167_103_light.fits\n",
      "2014-09-23_83F011167_104_light.fits\n",
      "2014-09-23_83F011167_105_light.fits\n",
      "2014-09-23_83F011167_106_light.fits\n",
      "2014-09-23_83F011167_107_light.fits\n",
      "2014-09-23_83F011167_108_light.fits\n",
      "2014-09-23_83F011167_109_light.fits\n",
      "2014-09-23_83F011167_110_light.fits\n",
      "2014-09-23_83F011167_111_light.fits\n",
      "2014-09-23_83F011167_112_light.fits\n",
      "2014-09-23_83F011167_113_light.fits\n",
      "2014-09-23_83F011167_114_light.fits\n",
      "2014-09-23_83F011167_115_light.fits\n",
      "2014-09-23_83F011167_116_light.fits\n",
      "2014-09-23_83F011167_117_light.fits\n",
      "2014-09-23_83F011167_118_light.fits\n",
      "2014-09-23_83F011167_119_light.fits\n",
      "2014-09-23_83F011167_120_light.fits\n",
      "2014-09-23_83F011167_121_light.fits\n",
      "2014-09-23_83F011167_122_light.fits\n",
      "2014-09-23_83F011167_123_light.fits\n",
      "2014-09-23_83F011167_124_light.fits\n",
      "2014-09-23_83F011167_125_light.fits\n",
      "2014-09-23_83F011167_41_light.fits\n",
      "2014-09-23_83F011167_42_light.fits\n",
      "2014-09-23_83F011167_43_light.fits\n",
      "2014-09-23_83F011167_44_light.fits\n",
      "2014-09-23_83F011167_45_light.fits\n",
      "2014-09-23_83F011167_46_light.fits\n",
      "2014-09-23_83F011167_47_light.fits\n",
      "2014-09-23_83F011167_48_light.fits\n",
      "2014-09-23_83F011167_49_light.fits\n",
      "2014-09-23_83F011167_50_light.fits\n",
      "2014-09-23_83F011167_51_light.fits\n",
      "2014-09-23_83F011167_52_light.fits\n",
      "2014-09-23_83F011167_53_light.fits\n",
      "2014-09-23_83F011167_54_light.fits\n",
      "2014-09-23_83F011167_55_light.fits\n",
      "2014-09-23_83F011167_56_light.fits\n",
      "2014-09-23_83F011167_57_light.fits\n",
      "2014-09-23_83F011167_58_light.fits\n",
      "2014-09-23_83F011167_59_light.fits\n",
      "2014-09-23_83F011167_60_light.fits\n",
      "2014-09-23_83F011167_61_light.fits\n",
      "2014-09-23_83F011167_62_light.fits\n",
      "2014-09-23_83F011167_63_light.fits\n",
      "2014-09-23_83F011167_64_light.fits\n",
      "2014-09-23_83F011167_65_light.fits\n",
      "2014-09-23_83F011167_66_light.fits\n",
      "2014-09-23_83F011167_67_light.fits\n",
      "2014-09-23_83F011167_68_light.fits\n",
      "2014-09-23_83F011167_69_light.fits\n",
      "2014-09-23_83F011167_70_light.fits\n",
      "2014-09-23_83F011167_71_light.fits\n",
      "2014-09-23_83F011167_72_light.fits\n",
      "2014-09-23_83F011167_73_light.fits\n",
      "2014-09-23_83F011167_74_light.fits\n",
      "2014-09-23_83F011167_75_light.fits\n",
      "2014-09-23_83F011167_76_light.fits\n",
      "2014-09-23_83F011167_77_light.fits\n",
      "2014-09-23_83F011167_78_light.fits\n",
      "2014-09-23_83F011167_79_light.fits\n",
      "2014-09-23_83F011167_82_light.fits\n",
      "2014-09-23_83F011167_83_light.fits\n",
      "2014-09-23_83F011167_84_light.fits\n",
      "2014-09-23_83F011167_86_light.fits\n",
      "2014-09-23_83F011167_87_light.fits\n",
      "2014-09-23_83F011167_88_light.fits\n",
      "2014-09-23_83F011167_89_light.fits\n",
      "2014-09-23_83F011167_91_light.fits\n",
      "2014-09-23_83F011167_92_light.fits\n",
      "2014-09-23_83F011167_93_light.fits\n",
      "2014-09-23_83F011167_94_light.fits\n",
      "2014-09-23_83F011167_95_light.fits\n",
      "2014-09-23_83F011167_96_light.fits\n",
      "2014-09-23_83F011167_97_light.fits\n",
      "2014-09-23_83F011167_98_light.fits\n",
      "2014-09-23_83F011167_99_light.fits\n",
      "2014-09-25_83F011167_79_light.fits\n",
      "2014-09-25_83F011167_83_light.fits\n",
      "2014-09-25_83F011167_84_light.fits\n",
      "2014-09-25_83F011167_85_light.fits\n",
      "2014-09-25_83F011167_86_light.fits\n",
      "2014-09-25_83F011167_89_light.fits\n",
      "2014-09-25_83F011167_90_light.fits\n",
      "2014-09-25_83F011167_91_light.fits\n",
      "2014-09-25_83F011167_92_light.fits\n",
      "2014-09-25_83F011167_93_light.fits\n",
      "2014-09-25_83F011167_94_light.fits\n",
      "2014-09-25_83F011167_95_light.fits\n",
      "2014-09-25_83F011167_97_light.fits\n",
      "2014-09-26_83F011167_100_light.fits\n",
      "2014-09-26_83F011167_101_light.fits\n",
      "2014-09-26_83F011167_102_light.fits\n",
      "2014-09-26_83F011167_103_light.fits\n",
      "2014-09-26_83F011167_104_light.fits\n",
      "2014-09-26_83F011167_105_light.fits\n",
      "2014-09-26_83F011167_106_light.fits\n",
      "2014-09-26_83F011167_107_light.fits\n",
      "2014-09-26_83F011167_108_light.fits\n",
      "2014-09-26_83F011167_109_light.fits\n",
      "2014-09-26_83F011167_110_light.fits\n",
      "2014-09-26_83F011167_111_light.fits\n",
      "2014-09-26_83F011167_112_light.fits\n",
      "2014-09-26_83F011167_113_light.fits\n",
      "2014-09-26_83F011167_114_light.fits\n",
      "2014-09-26_83F011167_116_light.fits\n",
      "2014-09-26_83F011167_126_light.fits\n",
      "2014-09-26_83F011167_127_light.fits\n",
      "2014-09-26_83F011167_129_light.fits\n",
      "2014-09-26_83F011167_132_light.fits\n",
      "2014-09-26_83F011167_133_light.fits\n",
      "2014-09-26_83F011167_134_light.fits\n",
      "2014-09-26_83F011167_135_light.fits\n",
      "2014-09-26_83F011167_136_light.fits\n",
      "2014-09-26_83F011167_137_light.fits\n",
      "2014-09-26_83F011167_138_light.fits\n",
      "2014-09-26_83F011167_139_light.fits\n",
      "2014-09-26_83F011167_140_light.fits\n",
      "2014-09-26_83F011167_141_light.fits\n",
      "2014-09-26_83F011167_142_light.fits\n",
      "2014-09-26_83F011167_143_light.fits\n",
      "2014-09-26_83F011167_144_light.fits\n",
      "2014-09-26_83F011167_145_light.fits\n",
      "2014-09-26_83F011167_146_light.fits\n",
      "2014-09-26_83F011167_147_light.fits\n",
      "2014-09-26_83F011167_148_light.fits\n",
      "2014-09-26_83F011167_149_light.fits\n",
      "2014-09-26_83F011167_150_light.fits\n",
      "2014-09-26_83F011167_151_light.fits\n",
      "2014-09-26_83F011167_152_light.fits\n",
      "2014-09-26_83F011167_154_light.fits\n",
      "2014-09-26_83F011167_155_light.fits\n",
      "2014-09-26_83F011167_156_light.fits\n",
      "2014-09-26_83F011167_157_light.fits\n",
      "2014-09-26_83F011167_158_light.fits\n",
      "2014-09-26_83F011167_159_light.fits\n",
      "2014-09-26_83F011167_160_light.fits\n",
      "2014-09-26_83F011167_161_light.fits\n",
      "2014-09-26_83F011167_162_light.fits\n",
      "2014-09-26_83F011167_163_light.fits\n",
      "2014-09-26_83F011167_164_light.fits\n",
      "2014-09-26_83F011167_165_light.fits\n",
      "2014-09-26_83F011167_90_light.fits\n",
      "2014-09-26_83F011167_91_light.fits\n",
      "2014-09-26_83F011167_92_light.fits\n",
      "2014-09-26_83F011167_93_light.fits\n",
      "2014-09-26_83F011167_94_light.fits\n",
      "2014-09-26_83F011167_95_light.fits\n",
      "2014-09-26_83F011167_96_light.fits\n",
      "2014-09-26_83F011167_97_light.fits\n",
      "2014-09-26_83F011167_98_light.fits\n",
      "2014-09-26_83F011167_99_light.fits\n"
     ]
    }
   ],
   "source": [
    "os.chdir(paths['temp'])\n",
    "\n",
    "for raw in ngc300_r_names:\n",
    "    on = os.path.split(os.path.dirname(raw))[1] + \"_\" + os.path.basename(raw)\n",
    "    image = ccdproc.CCDData.read(raw, unit='adu')\n",
    "    image = ccdproc.trim_image(image[30:,:])\n",
    "    ccdproc.CCDData.write(image, on, format='fits', clobber=True)\n",
    "    print(on)"
   ]
  },
  {
   "cell_type": "markdown",
   "metadata": {},
   "source": [
    "# Use raw files & flat field to create weight & flag maps for each file"
   ]
  },
  {
   "cell_type": "code",
   "execution_count": null,
   "metadata": {
    "collapsed": false,
    "scrolled": true
   },
   "outputs": [],
   "source": [
    "os.chdir(paths['temp'])\n",
    "\n",
    "for raw in glob.glob('*_light.fits'):\n",
    "    cn = os.path.join(paths['config'], 'NGC300.ww')\n",
    "    wns = os.path.join(paths['calib'], flat_file) + ',' + raw\n",
    "    own = os.path.basename(raw).replace('.fits', '.bdfw.weight.fits')\n",
    "    ofn = os.path.basename(raw).replace('.fits', '.bdfw.flag.fits')\n",
    "    command = \"ww -c {} -WEIGHT_NAMES {} -OUTWEIGHT_NAME {} -OUTFLAG_NAME {}\".format(cn, wns, own, ofn)\n",
    "    subprocess.call(command, shell=True)\n",
    "    print(raw)"
   ]
  },
  {
   "cell_type": "markdown",
   "metadata": {},
   "source": [
    "### Do bias & dark subtraction and flat fielding on the raw images."
   ]
  },
  {
   "cell_type": "code",
   "execution_count": null,
   "metadata": {
    "collapsed": false,
    "scrolled": true
   },
   "outputs": [],
   "source": [
    "os.chdir(paths['temp'])\n",
    "\n",
    "for raw in glob.glob('*_light.fits'):\n",
    "    image = ccdproc.CCDData.read(raw)\n",
    "    image = ccdproc.subtract_bias(image, master_bias)\n",
    "    image = ccdproc.subtract_dark(image, master_unbiased_dark, scale=True, \\\n",
    "                                  data_exposure = image.header['EXPTIME'] * u.second, dark_exposure=300 * u.second)\n",
    "    image = ccdproc.flat_correct(image, master_flat)\n",
    "    on = os.path.basename(raw).replace('.fits', '.bdf.fits')\n",
    "    print(on)\n",
    "    ccdproc.CCDData.write(image, on, format='fits', clobber=True)"
   ]
  },
  {
   "cell_type": "markdown",
   "metadata": {},
   "source": [
    "### Use solve-field to get basic astrometric calibration"
   ]
  },
  {
   "cell_type": "code",
   "execution_count": null,
   "metadata": {
    "collapsed": false,
    "scrolled": true
   },
   "outputs": [],
   "source": [
    "os.chdir(paths['temp'])\n",
    "\n",
    "for raw in glob.glob('*_light.fits'):\n",
    "    orig = os.path.basename(raw).replace('.fits', '.bdf.fits')\n",
    "    out = orig.replace('.bdf.fits', '.bdfw.fits')\n",
    "    command = 'solve-field --no-plots --ra 14.9 --dec -37.7 --radius 1.5 --new-fits {} {}'.format(out, orig)\n",
    "    subprocess.call(command, shell=True)\n",
    "    print(out)"
   ]
  },
  {
   "cell_type": "markdown",
   "metadata": {},
   "source": [
    "### Run SExtractor to prepare catalogues suitable for SCAMP"
   ]
  },
  {
   "cell_type": "code",
   "execution_count": null,
   "metadata": {
    "collapsed": false,
    "scrolled": true
   },
   "outputs": [],
   "source": [
    "os.chdir(paths['temp'])\n",
    "\n",
    "for raw in glob.glob('*_light.fits'):\n",
    "    cn = os.path.join(paths['config'], 'NGC300.sex')\n",
    "    pn = os.path.join(paths['config'], 'NGC300.param')\n",
    "    inn = os.path.basename(raw).replace('.fits', '.bdfw.fits')\n",
    "    wn = inn.replace('.fits', '.weight.fits')\n",
    "    fn = inn.replace('.fits', '.flag.fits')\n",
    "    catn = inn.replace('.fits', '.cat')\n",
    "    command = 'sex -c {} -CATALOG_NAME {} -PARAMETERS_NAME {} -WEIGHT_IMAGE {} -FLAG_IMAGE {} {}'.format(cn, catn, pn, wn, fn, inn)\n",
    "    subprocess.call(command, shell=True)\n",
    "    print(catn)"
   ]
  },
  {
   "cell_type": "markdown",
   "metadata": {},
   "source": [
    "### Run SCAMP for astrometric & photometric calibration"
   ]
  },
  {
   "cell_type": "code",
   "execution_count": null,
   "metadata": {
    "collapsed": false
   },
   "outputs": [],
   "source": [
    "os.chdir(paths['temp'])\n",
    "\n",
    "# Create an input file list\n",
    "cln = 'cat_list.txt'\n",
    "with open(cln, 'w') as cl:\n",
    "    for raw in glob.glob('*_light.fits'):\n",
    "        catn = os.path.basename(raw).replace('.fits', '.bdfw.cat')\n",
    "        cl.write(catn + '\\n')\n",
    "\n",
    "# Using a config file with a small field group separation so that each\n",
    "# of the 9 dither positions gets labelled as a separate field group\n",
    "cn = os.path.join(paths['config'], 'NGC300.scamp')\n",
    "command = 'scamp @{} -c {} '.format(cln, cn)\n",
    "subprocess.call(command, shell=True)\n"
   ]
  },
  {
   "cell_type": "markdown",
   "metadata": {},
   "source": [
    "### Run SWarp to resample and combine images"
   ]
  },
  {
   "cell_type": "code",
   "execution_count": null,
   "metadata": {
    "collapsed": false
   },
   "outputs": [],
   "source": [
    "os.chdir(paths['temp'])\n",
    "\n",
    "# Create input file lists\n",
    "inputfiles = [os.path.abspath(os.path.basename(raw).replace('.fits', '.bdfw.fits')) \\\n",
    "              for raw in glob.glob('*_light.fits')]\n",
    "\n",
    "iln = 'inputlist.txt'\n",
    "with open(iln, 'w') as il:\n",
    "    for f in inputfiles:\n",
    "        il.write(f + '\\n')\n",
    "\n",
    "groupedfiles = {1:[], 2:[], 3:[], 4:[], 5:[], 6:[], 7:[], 8:[], 9:[]}\n",
    "for fname in inputfiles:\n",
    "    head = fits.Header.fromtextfile(fname.replace('.fits', '.head'))\n",
    "    try:\n",
    "        groupedfiles[head['FGROUPNO']].append(fname.replace('.fits', '.resamp.fits'))\n",
    "    except KeyError:\n",
    "        pass\n",
    "    \n",
    "for group, fnames in groupedfiles.items():\n",
    "    iln = 'inputlist{}.txt'.format(group)\n",
    "    with open(iln, 'w') as il:\n",
    "        for f in fnames:\n",
    "            il.write(f + '\\n')"
   ]
  },
  {
   "cell_type": "code",
   "execution_count": null,
   "metadata": {
    "collapsed": true
   },
   "outputs": [],
   "source": [
    "os.chdir(paths['temp'])\n",
    "\n",
    "cn = os.path.join(paths['config'], 'NGC300.swarp')\n",
    "\n",
    "# Run on all files to create overall median combined image, keep individual resampled files.\n",
    "outn = os.path.join(paths['red'], 'NGC300_all.fits')\n",
    "woutn = os.path.join(paths['red'], 'NGC300_all.weight.fits')\n",
    "command = 'swarp @{} -c {} -DELETE_TMPFILES N -IMAGEOUT_NAME {} -WEIGHTOUT_NAME {}'.format('inputlist.txt', cn, outn, woutn)\n",
    "subprocess.call(command, shell=True)"
   ]
  },
  {
   "cell_type": "code",
   "execution_count": null,
   "metadata": {
    "collapsed": false
   },
   "outputs": [],
   "source": [
    "# Copy header from all file stack to .head files for each dither position so\n",
    "# everything ends up on the same pixel grid\n",
    "header = fits.Header.fromfile(os.path.join(paths['red'], 'NGC300_all.fits'))\n",
    "for group in groupedfiles.keys():\n",
    "    header.totextfile(os.path.join(paths['red'], 'NGC300_{}.head'.format(group)), endcard=True, clobber=True)\n",
    "\n",
    "# Do individual dither positions \n",
    "for group in groupedfiles.keys():\n",
    "    iln = 'inputlist{}.txt'.format(group)\n",
    "    outn = os.path.join(paths['red'], 'NGC300_{}.fits'.format(group))\n",
    "    woutn = os.path.join(paths['red'], 'NGC300_{}.weight.fits'.format(group))\n",
    "    command = 'swarp @{} -c {} -RESAMPLE N -IMAGEOUT_NAME {} -WEIGHTOUT_NAME {}'.format(iln, cn, outn, woutn)\n",
    "    subprocess.call(command, shell=True)"
   ]
  },
  {
   "cell_type": "markdown",
   "metadata": {},
   "source": [
    "## Subtract reference images"
   ]
  },
  {
   "cell_type": "code",
   "execution_count": null,
   "metadata": {
    "collapsed": false,
    "scrolled": true
   },
   "outputs": [],
   "source": [
    "os.chdir(os.path.join(paths['red'], 'difference'))\n",
    "\n",
    "for group in groupedfiles.keys():\n",
    "    # Load reference image for this dither positon\n",
    "    reference = ccdproc.CCDData.read(os.path.join(paths['red'], 'NGC300_{}.fits'.format(group)), unit='adu')\n",
    "    for rfile in groupedfiles[group]:\n",
    "        # Load resampled image\n",
    "        resamp = ccdproc.CCDData.read(rfile, unit='adu')\n",
    "        resamp.wcs.printwcs()\n",
    "        # Apply SCAMP flux scaling, with ugly hack to preserve WCS\n",
    "        wcs = resamp.wcs\n",
    "        resamp = ccdproc.CCDData(resamp.multiply(resamp.header['FLXSCALE'] * u.dimensionless_unscaled), wcs=wcs)\n",
    "        # Work out section of reference image to use\n",
    "        x0 = reference.header['CRPIX1'] - resamp.header['CRPIX1']\n",
    "        x1 = x0 + resamp.header['NAXIS1']\n",
    "        y0 = reference.header['CRPIX2'] - resamp.header['CRPIX2']\n",
    "        y1 = y0 + resamp.header['NAXIS2']\n",
    "        # Trim reference image\n",
    "        ref = ccdproc.trim_image(reference[y0:y1,x0:x1])\n",
    "        # Subtract reference. Ugly hacks needed here too because ccdproc.trim_image doesn't update WCS\n",
    "        resamp.data -= ref\n",
    "        # Write result\n",
    "        resamp.write(os.path.basename(rfile).replace('.fits', '.diff.fits'), clobber=True)"
   ]
  },
  {
   "cell_type": "code",
   "execution_count": null,
   "metadata": {
    "collapsed": true
   },
   "outputs": [],
   "source": []
  }
 ],
 "metadata": {
  "kernelspec": {
   "display_name": "Python 2",
   "language": "python",
   "name": "python2"
  },
  "language_info": {
   "codemirror_mode": {
    "name": "ipython",
    "version": 2
   },
   "file_extension": ".py",
   "mimetype": "text/x-python",
   "name": "python",
   "nbconvert_exporter": "python",
   "pygments_lexer": "ipython2",
   "version": "2.7.10"
  }
 },
 "nbformat": 4,
 "nbformat_minor": 0
}
